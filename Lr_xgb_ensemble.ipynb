{
 "cells": [
  {
   "cell_type": "markdown",
   "metadata": {},
   "source": [
    "## Ensemble useing linear Regression and Xgboost"
   ]
  },
  {
   "cell_type": "code",
   "execution_count": 1,
   "metadata": {},
   "outputs": [
    {
     "name": "stdout",
     "output_type": "stream",
     "text": [
      "['sales_train.csv', 'Untitled.ipynb', 'shops.csv', 'test.csv', 'item_categories.csv', 'items.csv', 'sample_submission.csv']\n"
     ]
    }
   ],
   "source": [
    "import numpy as np\n",
    "import pandas as pd\n",
    "import os\n",
    "print(os.listdir(\"../predict_future_sales/input/\"))"
   ]
  },
  {
   "cell_type": "code",
   "execution_count": 2,
   "metadata": {},
   "outputs": [],
   "source": [
    "DATA_FOLDER = '../predict_future_sales/input'\n",
    "\n",
    "transactions = pd.read_csv('input/sales_train.csv')\n",
    "items = pd.read_csv('input/items.csv')\n",
    "item_categories = pd.read_csv('input/item_categories.csv')\n",
    "shops = pd.read_csv(os.path.join(DATA_FOLDER,'shops.csv'))\n",
    "test = pd.read_csv(os.path.join(DATA_FOLDER,'test.csv'))"
   ]
  },
  {
   "cell_type": "code",
   "execution_count": 3,
   "metadata": {},
   "outputs": [],
   "source": [
    "train_data = pd.read_pickle('data.pkl')\n",
    "test_data = pd.read_pickle('test_data.pkl')"
   ]
  },
  {
   "cell_type": "code",
   "execution_count": 4,
   "metadata": {},
   "outputs": [
    {
     "data": {
      "text/html": [
       "<div>\n",
       "<style scoped>\n",
       "    .dataframe tbody tr th:only-of-type {\n",
       "        vertical-align: middle;\n",
       "    }\n",
       "\n",
       "    .dataframe tbody tr th {\n",
       "        vertical-align: top;\n",
       "    }\n",
       "\n",
       "    .dataframe thead th {\n",
       "        text-align: right;\n",
       "    }\n",
       "</style>\n",
       "<table border=\"1\" class=\"dataframe\">\n",
       "  <thead>\n",
       "    <tr style=\"text-align: right;\">\n",
       "      <th></th>\n",
       "      <th>shop_id</th>\n",
       "      <th>item_id</th>\n",
       "      <th>date_block_num</th>\n",
       "      <th>item_cnt_month</th>\n",
       "      <th>item_category_id</th>\n",
       "      <th>city_name</th>\n",
       "      <th>city_frequency</th>\n",
       "      <th>type</th>\n",
       "      <th>subtype</th>\n",
       "      <th>product_sales_lag_1</th>\n",
       "      <th>...</th>\n",
       "      <th>price_shop_cat_lag_6</th>\n",
       "      <th>item_cnt_month_per_type_lag_6</th>\n",
       "      <th>item_price_per_type_lag_6</th>\n",
       "      <th>item_cnt_day_city_lag_6</th>\n",
       "      <th>item_price_city_lag_6</th>\n",
       "      <th>item_cnt_day_city_cat_lag_6</th>\n",
       "      <th>item_price_city_cat_lag_6</th>\n",
       "      <th>item_cnt_month_lag_6</th>\n",
       "      <th>month</th>\n",
       "      <th>days</th>\n",
       "    </tr>\n",
       "  </thead>\n",
       "  <tbody>\n",
       "    <tr>\n",
       "      <td>4836056</td>\n",
       "      <td>27</td>\n",
       "      <td>15242</td>\n",
       "      <td>13</td>\n",
       "      <td>2.0</td>\n",
       "      <td>63</td>\n",
       "      <td>13</td>\n",
       "      <td>0.216667</td>\n",
       "      <td>14</td>\n",
       "      <td>43</td>\n",
       "      <td>699.0</td>\n",
       "      <td>...</td>\n",
       "      <td>549.242004</td>\n",
       "      <td>0.266098</td>\n",
       "      <td>95.968460</td>\n",
       "      <td>0.483414</td>\n",
       "      <td>129.972885</td>\n",
       "      <td>0.517054</td>\n",
       "      <td>144.963425</td>\n",
       "      <td>1.0</td>\n",
       "      <td>1</td>\n",
       "      <td>28</td>\n",
       "    </tr>\n",
       "    <tr>\n",
       "      <td>4836057</td>\n",
       "      <td>27</td>\n",
       "      <td>15200</td>\n",
       "      <td>13</td>\n",
       "      <td>1.0</td>\n",
       "      <td>69</td>\n",
       "      <td>13</td>\n",
       "      <td>0.216667</td>\n",
       "      <td>14</td>\n",
       "      <td>58</td>\n",
       "      <td>0.0</td>\n",
       "      <td>...</td>\n",
       "      <td>364.789459</td>\n",
       "      <td>0.266098</td>\n",
       "      <td>95.968460</td>\n",
       "      <td>0.483414</td>\n",
       "      <td>129.972885</td>\n",
       "      <td>0.442857</td>\n",
       "      <td>105.851715</td>\n",
       "      <td>0.0</td>\n",
       "      <td>1</td>\n",
       "      <td>28</td>\n",
       "    </tr>\n",
       "    <tr>\n",
       "      <td>4836058</td>\n",
       "      <td>27</td>\n",
       "      <td>15279</td>\n",
       "      <td>13</td>\n",
       "      <td>2.0</td>\n",
       "      <td>63</td>\n",
       "      <td>13</td>\n",
       "      <td>0.216667</td>\n",
       "      <td>14</td>\n",
       "      <td>43</td>\n",
       "      <td>1598.0</td>\n",
       "      <td>...</td>\n",
       "      <td>380.922211</td>\n",
       "      <td>0.000000</td>\n",
       "      <td>47.450130</td>\n",
       "      <td>0.000000</td>\n",
       "      <td>112.183441</td>\n",
       "      <td>0.000000</td>\n",
       "      <td>47.114483</td>\n",
       "      <td>0.0</td>\n",
       "      <td>1</td>\n",
       "      <td>28</td>\n",
       "    </tr>\n",
       "    <tr>\n",
       "      <td>4836059</td>\n",
       "      <td>27</td>\n",
       "      <td>15202</td>\n",
       "      <td>13</td>\n",
       "      <td>1.0</td>\n",
       "      <td>69</td>\n",
       "      <td>13</td>\n",
       "      <td>0.216667</td>\n",
       "      <td>14</td>\n",
       "      <td>58</td>\n",
       "      <td>0.0</td>\n",
       "      <td>...</td>\n",
       "      <td>364.789459</td>\n",
       "      <td>0.266098</td>\n",
       "      <td>95.968460</td>\n",
       "      <td>0.483414</td>\n",
       "      <td>129.972885</td>\n",
       "      <td>0.442857</td>\n",
       "      <td>105.851715</td>\n",
       "      <td>0.0</td>\n",
       "      <td>1</td>\n",
       "      <td>28</td>\n",
       "    </tr>\n",
       "    <tr>\n",
       "      <td>4836060</td>\n",
       "      <td>27</td>\n",
       "      <td>14888</td>\n",
       "      <td>13</td>\n",
       "      <td>1.0</td>\n",
       "      <td>55</td>\n",
       "      <td>13</td>\n",
       "      <td>0.216667</td>\n",
       "      <td>13</td>\n",
       "      <td>4</td>\n",
       "      <td>1098.0</td>\n",
       "      <td>...</td>\n",
       "      <td>284.811615</td>\n",
       "      <td>0.199080</td>\n",
       "      <td>45.319733</td>\n",
       "      <td>0.483414</td>\n",
       "      <td>129.972885</td>\n",
       "      <td>0.386102</td>\n",
       "      <td>65.062836</td>\n",
       "      <td>1.0</td>\n",
       "      <td>1</td>\n",
       "      <td>28</td>\n",
       "    </tr>\n",
       "  </tbody>\n",
       "</table>\n",
       "<p>5 rows × 123 columns</p>\n",
       "</div>"
      ],
      "text/plain": [
       "         shop_id  item_id  date_block_num  item_cnt_month  item_category_id  \\\n",
       "4836056       27    15242              13             2.0                63   \n",
       "4836057       27    15200              13             1.0                69   \n",
       "4836058       27    15279              13             2.0                63   \n",
       "4836059       27    15202              13             1.0                69   \n",
       "4836060       27    14888              13             1.0                55   \n",
       "\n",
       "         city_name  city_frequency  type  subtype  product_sales_lag_1  ...  \\\n",
       "4836056         13        0.216667    14       43                699.0  ...   \n",
       "4836057         13        0.216667    14       58                  0.0  ...   \n",
       "4836058         13        0.216667    14       43               1598.0  ...   \n",
       "4836059         13        0.216667    14       58                  0.0  ...   \n",
       "4836060         13        0.216667    13        4               1098.0  ...   \n",
       "\n",
       "         price_shop_cat_lag_6  item_cnt_month_per_type_lag_6  \\\n",
       "4836056            549.242004                       0.266098   \n",
       "4836057            364.789459                       0.266098   \n",
       "4836058            380.922211                       0.000000   \n",
       "4836059            364.789459                       0.266098   \n",
       "4836060            284.811615                       0.199080   \n",
       "\n",
       "         item_price_per_type_lag_6  item_cnt_day_city_lag_6  \\\n",
       "4836056                  95.968460                 0.483414   \n",
       "4836057                  95.968460                 0.483414   \n",
       "4836058                  47.450130                 0.000000   \n",
       "4836059                  95.968460                 0.483414   \n",
       "4836060                  45.319733                 0.483414   \n",
       "\n",
       "         item_price_city_lag_6  item_cnt_day_city_cat_lag_6  \\\n",
       "4836056             129.972885                     0.517054   \n",
       "4836057             129.972885                     0.442857   \n",
       "4836058             112.183441                     0.000000   \n",
       "4836059             129.972885                     0.442857   \n",
       "4836060             129.972885                     0.386102   \n",
       "\n",
       "         item_price_city_cat_lag_6  item_cnt_month_lag_6  month  days  \n",
       "4836056                 144.963425                   1.0      1    28  \n",
       "4836057                 105.851715                   0.0      1    28  \n",
       "4836058                  47.114483                   0.0      1    28  \n",
       "4836059                 105.851715                   0.0      1    28  \n",
       "4836060                  65.062836                   1.0      1    28  \n",
       "\n",
       "[5 rows x 123 columns]"
      ]
     },
     "execution_count": 4,
     "metadata": {},
     "output_type": "execute_result"
    }
   ],
   "source": [
    "train_data.head(5)"
   ]
  },
  {
   "cell_type": "code",
   "execution_count": 5,
   "metadata": {},
   "outputs": [
    {
     "data": {
      "text/html": [
       "<div>\n",
       "<style scoped>\n",
       "    .dataframe tbody tr th:only-of-type {\n",
       "        vertical-align: middle;\n",
       "    }\n",
       "\n",
       "    .dataframe tbody tr th {\n",
       "        vertical-align: top;\n",
       "    }\n",
       "\n",
       "    .dataframe thead th {\n",
       "        text-align: right;\n",
       "    }\n",
       "</style>\n",
       "<table border=\"1\" class=\"dataframe\">\n",
       "  <thead>\n",
       "    <tr style=\"text-align: right;\">\n",
       "      <th></th>\n",
       "      <th>shop_id</th>\n",
       "      <th>item_id</th>\n",
       "      <th>date_block_num</th>\n",
       "      <th>item_category_id</th>\n",
       "      <th>city_name</th>\n",
       "      <th>city_frequency</th>\n",
       "      <th>type</th>\n",
       "      <th>subtype</th>\n",
       "      <th>product_sales_lag_1</th>\n",
       "      <th>item_price_per_item_lag_1</th>\n",
       "      <th>...</th>\n",
       "      <th>price_shop_cat_lag_6</th>\n",
       "      <th>item_cnt_month_per_type_lag_6</th>\n",
       "      <th>item_price_per_type_lag_6</th>\n",
       "      <th>item_cnt_day_city_lag_6</th>\n",
       "      <th>item_price_city_lag_6</th>\n",
       "      <th>item_cnt_day_city_cat_lag_6</th>\n",
       "      <th>item_price_city_cat_lag_6</th>\n",
       "      <th>item_cnt_month_lag_6</th>\n",
       "      <th>month</th>\n",
       "      <th>days</th>\n",
       "    </tr>\n",
       "  </thead>\n",
       "  <tbody>\n",
       "    <tr>\n",
       "      <td>0</td>\n",
       "      <td>5</td>\n",
       "      <td>5037</td>\n",
       "      <td>34</td>\n",
       "      <td>19</td>\n",
       "      <td>3</td>\n",
       "      <td>0.016667</td>\n",
       "      <td>5</td>\n",
       "      <td>12</td>\n",
       "      <td>0.0</td>\n",
       "      <td>1499.00000</td>\n",
       "      <td>...</td>\n",
       "      <td>1316.797974</td>\n",
       "      <td>0.487498</td>\n",
       "      <td>429.576782</td>\n",
       "      <td>0.180011</td>\n",
       "      <td>103.231186</td>\n",
       "      <td>0.432749</td>\n",
       "      <td>294.928619</td>\n",
       "      <td>1.0</td>\n",
       "      <td>10</td>\n",
       "      <td>30</td>\n",
       "    </tr>\n",
       "    <tr>\n",
       "      <td>1</td>\n",
       "      <td>5</td>\n",
       "      <td>5320</td>\n",
       "      <td>34</td>\n",
       "      <td>55</td>\n",
       "      <td>3</td>\n",
       "      <td>0.016667</td>\n",
       "      <td>13</td>\n",
       "      <td>4</td>\n",
       "      <td>NaN</td>\n",
       "      <td>449.00000</td>\n",
       "      <td>...</td>\n",
       "      <td>419.697266</td>\n",
       "      <td>0.000000</td>\n",
       "      <td>48.404102</td>\n",
       "      <td>0.000000</td>\n",
       "      <td>123.917900</td>\n",
       "      <td>0.000000</td>\n",
       "      <td>55.836678</td>\n",
       "      <td>0.0</td>\n",
       "      <td>10</td>\n",
       "      <td>30</td>\n",
       "    </tr>\n",
       "    <tr>\n",
       "      <td>2</td>\n",
       "      <td>5</td>\n",
       "      <td>5233</td>\n",
       "      <td>34</td>\n",
       "      <td>19</td>\n",
       "      <td>3</td>\n",
       "      <td>0.016667</td>\n",
       "      <td>5</td>\n",
       "      <td>12</td>\n",
       "      <td>1199.0</td>\n",
       "      <td>1199.00000</td>\n",
       "      <td>...</td>\n",
       "      <td>1316.797974</td>\n",
       "      <td>0.487498</td>\n",
       "      <td>429.576782</td>\n",
       "      <td>0.180011</td>\n",
       "      <td>103.231186</td>\n",
       "      <td>0.432749</td>\n",
       "      <td>294.928619</td>\n",
       "      <td>3.0</td>\n",
       "      <td>10</td>\n",
       "      <td>30</td>\n",
       "    </tr>\n",
       "    <tr>\n",
       "      <td>3</td>\n",
       "      <td>5</td>\n",
       "      <td>5232</td>\n",
       "      <td>34</td>\n",
       "      <td>23</td>\n",
       "      <td>3</td>\n",
       "      <td>0.016667</td>\n",
       "      <td>5</td>\n",
       "      <td>18</td>\n",
       "      <td>0.0</td>\n",
       "      <td>1190.43335</td>\n",
       "      <td>...</td>\n",
       "      <td>419.697266</td>\n",
       "      <td>0.000000</td>\n",
       "      <td>48.404102</td>\n",
       "      <td>0.000000</td>\n",
       "      <td>123.917900</td>\n",
       "      <td>0.000000</td>\n",
       "      <td>55.836678</td>\n",
       "      <td>0.0</td>\n",
       "      <td>10</td>\n",
       "      <td>30</td>\n",
       "    </tr>\n",
       "    <tr>\n",
       "      <td>4</td>\n",
       "      <td>5</td>\n",
       "      <td>5268</td>\n",
       "      <td>34</td>\n",
       "      <td>20</td>\n",
       "      <td>3</td>\n",
       "      <td>0.016667</td>\n",
       "      <td>5</td>\n",
       "      <td>13</td>\n",
       "      <td>NaN</td>\n",
       "      <td>449.00000</td>\n",
       "      <td>...</td>\n",
       "      <td>419.697266</td>\n",
       "      <td>0.000000</td>\n",
       "      <td>48.404102</td>\n",
       "      <td>0.000000</td>\n",
       "      <td>123.917900</td>\n",
       "      <td>0.000000</td>\n",
       "      <td>55.836678</td>\n",
       "      <td>0.0</td>\n",
       "      <td>10</td>\n",
       "      <td>30</td>\n",
       "    </tr>\n",
       "  </tbody>\n",
       "</table>\n",
       "<p>5 rows × 122 columns</p>\n",
       "</div>"
      ],
      "text/plain": [
       "   shop_id  item_id  date_block_num  item_category_id  city_name  \\\n",
       "0        5     5037              34                19          3   \n",
       "1        5     5320              34                55          3   \n",
       "2        5     5233              34                19          3   \n",
       "3        5     5232              34                23          3   \n",
       "4        5     5268              34                20          3   \n",
       "\n",
       "   city_frequency  type  subtype  product_sales_lag_1  \\\n",
       "0        0.016667     5       12                  0.0   \n",
       "1        0.016667    13        4                  NaN   \n",
       "2        0.016667     5       12               1199.0   \n",
       "3        0.016667     5       18                  0.0   \n",
       "4        0.016667     5       13                  NaN   \n",
       "\n",
       "   item_price_per_item_lag_1  ...  price_shop_cat_lag_6  \\\n",
       "0                 1499.00000  ...           1316.797974   \n",
       "1                  449.00000  ...            419.697266   \n",
       "2                 1199.00000  ...           1316.797974   \n",
       "3                 1190.43335  ...            419.697266   \n",
       "4                  449.00000  ...            419.697266   \n",
       "\n",
       "   item_cnt_month_per_type_lag_6  item_price_per_type_lag_6  \\\n",
       "0                       0.487498                 429.576782   \n",
       "1                       0.000000                  48.404102   \n",
       "2                       0.487498                 429.576782   \n",
       "3                       0.000000                  48.404102   \n",
       "4                       0.000000                  48.404102   \n",
       "\n",
       "   item_cnt_day_city_lag_6  item_price_city_lag_6  \\\n",
       "0                 0.180011             103.231186   \n",
       "1                 0.000000             123.917900   \n",
       "2                 0.180011             103.231186   \n",
       "3                 0.000000             123.917900   \n",
       "4                 0.000000             123.917900   \n",
       "\n",
       "   item_cnt_day_city_cat_lag_6  item_price_city_cat_lag_6  \\\n",
       "0                     0.432749                 294.928619   \n",
       "1                     0.000000                  55.836678   \n",
       "2                     0.432749                 294.928619   \n",
       "3                     0.000000                  55.836678   \n",
       "4                     0.000000                  55.836678   \n",
       "\n",
       "   item_cnt_month_lag_6  month  days  \n",
       "0                   1.0     10    30  \n",
       "1                   0.0     10    30  \n",
       "2                   3.0     10    30  \n",
       "3                   0.0     10    30  \n",
       "4                   0.0     10    30  \n",
       "\n",
       "[5 rows x 122 columns]"
      ]
     },
     "execution_count": 5,
     "metadata": {},
     "output_type": "execute_result"
    }
   ],
   "source": [
    "test_data.head(5)"
   ]
  },
  {
   "cell_type": "code",
   "execution_count": 6,
   "metadata": {},
   "outputs": [
    {
     "name": "stdout",
     "output_type": "stream",
     "text": [
      "<class 'pandas.core.frame.DataFrame'>\n",
      "Int64Index: 6077748 entries, 4836056 to 10913803\n",
      "Columns: 123 entries, shop_id to days\n",
      "dtypes: float32(114), int32(8), int8(1)\n",
      "memory usage: 2.8 GB\n"
     ]
    }
   ],
   "source": [
    "train_data.info()"
   ]
  },
  {
   "cell_type": "code",
   "execution_count": 7,
   "metadata": {},
   "outputs": [],
   "source": [
    "from sklearn import preprocessing"
   ]
  },
  {
   "cell_type": "code",
   "execution_count": 8,
   "metadata": {},
   "outputs": [
    {
     "data": {
      "text/plain": [
       "(6291948, 122)"
      ]
     },
     "execution_count": 8,
     "metadata": {},
     "output_type": "execute_result"
    }
   ],
   "source": [
    "lr_whole_data = pd.concat([train_data.drop('item_cnt_month',axis=1), test_data],sort=False)\n",
    "\n",
    "lr_whole_data.shape"
   ]
  },
  {
   "cell_type": "code",
   "execution_count": 9,
   "metadata": {},
   "outputs": [],
   "source": [
    "category_feat_drop = ['days','type','city_name','month']\n",
    "cat_feat = ['date_block_num','shop_id']\n",
    "whole_date = lr_whole_data.date_block_num #Train/Testスライシングするために取得しておく\n",
    "lr_whole_data = lr_whole_data.drop(category_feat_drop, axis=1)\n",
    "lr_whole_data['date_block_num'] = lr_whole_data['date_block_num'].astype('str')#get_dummiesをdate_block_numにも適用させるため"
   ]
  },
  {
   "cell_type": "code",
   "execution_count": 10,
   "metadata": {},
   "outputs": [],
   "source": [
    "for feat in lr_whole_data.columns:\n",
    "    lr_whole_data[feat] = lr_whole_data[feat].fillna(lr_whole_data[feat].median())"
   ]
  },
  {
   "cell_type": "code",
   "execution_count": 11,
   "metadata": {},
   "outputs": [],
   "source": [
    "for feat in cat_feat:\n",
    "    lr_whole_data[feat] = pd.get_dummies(lr_whole_data[feat], sparse=False)"
   ]
  },
  {
   "cell_type": "code",
   "execution_count": 12,
   "metadata": {},
   "outputs": [],
   "source": [
    "scaler = preprocessing.StandardScaler()\n",
    "\n",
    "lr_whole_data = scaler.fit_transform(lr_whole_data)"
   ]
  },
  {
   "cell_type": "code",
   "execution_count": 13,
   "metadata": {},
   "outputs": [],
   "source": [
    "y_train = train_data['item_cnt_month']\n",
    "X_train_xgb = train_data.iloc[:, train_data.columns != 'item_cnt_month']\n"
   ]
  },
  {
   "cell_type": "code",
   "execution_count": 14,
   "metadata": {},
   "outputs": [],
   "source": [
    "X_train_lr = lr_whole_data[whole_date != 34]\n",
    "X_test_lr = lr_whole_data[whole_date == 34]"
   ]
  },
  {
   "cell_type": "code",
   "execution_count": 15,
   "metadata": {},
   "outputs": [],
   "source": [
    "del lr_whole_data"
   ]
  },
  {
   "cell_type": "code",
   "execution_count": 16,
   "metadata": {},
   "outputs": [
    {
     "data": {
      "text/plain": [
       "6077748"
      ]
     },
     "execution_count": 16,
     "metadata": {},
     "output_type": "execute_result"
    }
   ],
   "source": [
    "X_train_lr.shape[0]"
   ]
  },
  {
   "cell_type": "code",
   "execution_count": 17,
   "metadata": {},
   "outputs": [
    {
     "data": {
      "text/plain": [
       "214200"
      ]
     },
     "execution_count": 17,
     "metadata": {},
     "output_type": "execute_result"
    }
   ],
   "source": [
    "X_test_lr.shape[0]"
   ]
  },
  {
   "cell_type": "code",
   "execution_count": 18,
   "metadata": {},
   "outputs": [],
   "source": [
    "from sklearn.linear_model import LinearRegression"
   ]
  },
  {
   "cell_type": "code",
   "execution_count": 19,
   "metadata": {},
   "outputs": [
    {
     "data": {
      "text/plain": [
       "pandas.core.series.Series"
      ]
     },
     "execution_count": 19,
     "metadata": {},
     "output_type": "execute_result"
    }
   ],
   "source": [
    "type(y_train)"
   ]
  },
  {
   "cell_type": "code",
   "execution_count": 20,
   "metadata": {},
   "outputs": [
    {
     "data": {
      "text/plain": [
       "(6077748,)"
      ]
     },
     "execution_count": 20,
     "metadata": {},
     "output_type": "execute_result"
    }
   ],
   "source": [
    "y_train.shape"
   ]
  },
  {
   "cell_type": "code",
   "execution_count": 21,
   "metadata": {},
   "outputs": [],
   "source": [
    "lr = LinearRegression()"
   ]
  },
  {
   "cell_type": "code",
   "execution_count": 22,
   "metadata": {},
   "outputs": [],
   "source": [
    "#lr.fit(X_train_lr,y_train.values)"
   ]
  },
  {
   "cell_type": "code",
   "execution_count": 23,
   "metadata": {},
   "outputs": [],
   "source": [
    "pred_lr = pd.read_csv('lr_submission.csv')\n",
    "pred_xgb = pd.read_csv('early_stop_xgb_type_new.csv')"
   ]
  },
  {
   "cell_type": "code",
   "execution_count": 24,
   "metadata": {},
   "outputs": [],
   "source": [
    "#pd.Series(pred_lr).describe()"
   ]
  },
  {
   "cell_type": "code",
   "execution_count": 25,
   "metadata": {},
   "outputs": [],
   "source": [
    "# sub_df = pd.DataFrame({'ID':test.index,'item_cnt_month':pred_lr})\n",
    "# sub_df.to_csv('lr_submission.csv',index=False)"
   ]
  },
  {
   "cell_type": "code",
   "execution_count": 26,
   "metadata": {},
   "outputs": [],
   "source": [
    "pred_lr = pred_lr.item_cnt_month.values\n",
    "pred_xgb = pred_xgb.item_cnt_month.values"
   ]
  },
  {
   "cell_type": "code",
   "execution_count": 27,
   "metadata": {},
   "outputs": [],
   "source": [
    "X_test_level2 = np.c_[pred_lr, pred_xgb]"
   ]
  },
  {
   "cell_type": "code",
   "execution_count": 28,
   "metadata": {},
   "outputs": [],
   "source": [
    "dates_train = X_train_xgb.date_block_num"
   ]
  },
  {
   "cell_type": "code",
   "execution_count": 29,
   "metadata": {},
   "outputs": [],
   "source": [
    "dates_train_level2 = dates_train[dates_train.isin([31,32,33])]\n",
    "#meta特徴量を作成するサンプルをmaskするため\n",
    "\n",
    "y_train_level2 = y_train[dates_train.isin([31,32,33])]"
   ]
  },
  {
   "cell_type": "code",
   "execution_count": 30,
   "metadata": {},
   "outputs": [],
   "source": [
    "from sklearn.linear_model import LinearRegression\n",
    "import xgboost as xgb"
   ]
  },
  {
   "cell_type": "code",
   "execution_count": 31,
   "metadata": {},
   "outputs": [
    {
     "name": "stdout",
     "output_type": "stream",
     "text": [
      "31\n",
      "[12:28:09] WARNING: src/learner.cc:686: Tree method is automatically selected to be 'approx' for faster speed. To use old behavior (exact greedy algorithm on single machine), set tree_method to 'exact'.\n",
      "32\n",
      "[12:43:47] WARNING: src/learner.cc:686: Tree method is automatically selected to be 'approx' for faster speed. To use old behavior (exact greedy algorithm on single machine), set tree_method to 'exact'.\n",
      "33\n",
      "[13:34:24] WARNING: src/learner.cc:686: Tree method is automatically selected to be 'approx' for faster speed. To use old behavior (exact greedy algorithm on single machine), set tree_method to 'exact'.\n"
     ]
    }
   ],
   "source": [
    "X_train_level2 = np.zeros([y_train_level2.shape[0], 2])\n",
    "params = {\n",
    "          'max_depth':10,\n",
    "          'subsample':0.8,\n",
    "          'min_child_weight':300,\n",
    "          'colsample_bytree':0.8,\n",
    "          'eta':0.3,'num_round':100,\n",
    "          'seed':1,\n",
    "          'silent':0,\n",
    "          'eval_metric':'rmse'\n",
    "         }\n",
    "\n",
    "for cur_block_num in [31,32,33]:\n",
    "    print(cur_block_num)\n",
    "    X_train_beta_xgb = X_train_xgb[dates_train < cur_block_num]\n",
    "    y_train_beta = y_train[dates_train < cur_block_num]\n",
    "    X_train_beta_lr = X_train_lr[dates_train <cur_block_num]\n",
    "    X_test_beta_lr = X_train_lr[dates_train == cur_block_num]\n",
    "    X_test_beta_xgb = X_train_xgb[dates_train == cur_block_num]\n",
    "    lr = LinearRegression()\n",
    "    lr.fit(X_train_beta_lr, y_train_beta.values)\n",
    "    pred_lr = lr.predict(X_test_beta_lr)\n",
    "    xgbtrain = xgb.DMatrix(X_train_beta_xgb.values, y_train_beta.values)\n",
    "    bst = xgb.train(params, xgbtrain, num_boost_round=9)\n",
    "    xgbpredict = xgb.DMatrix(X_test_beta_xgb.values)\n",
    "    pred_xgb = bst.predict(xgbpredict)\n",
    "    X_train_level2[dates_train_level2 == cur_block_num, 0] = pred_lr\n",
    "    X_train_level2[dates_train_level2 == cur_block_num, 1] = pred_xgb\n",
    "   "
   ]
  },
  {
   "cell_type": "code",
   "execution_count": 32,
   "metadata": {},
   "outputs": [
    {
     "data": {
      "text/plain": [
       "LinearRegression(copy_X=True, fit_intercept=True, n_jobs=None, normalize=False)"
      ]
     },
     "execution_count": 32,
     "metadata": {},
     "output_type": "execute_result"
    }
   ],
   "source": [
    "lr = LinearRegression()\n",
    "\n",
    "diff = X_train_level2[:,0] - X_train_level2[:,1]\n",
    "\n",
    "X_train_level2 = np.c_[X_train_level2, diff]\n",
    "\n",
    "lr.fit(X_train_level2, y_train_level2)"
   ]
  },
  {
   "cell_type": "code",
   "execution_count": 33,
   "metadata": {},
   "outputs": [],
   "source": [
    "diff = X_test_level2[:,0] - X_test_level2[:,1]\n",
    "X_test_level2 = np.c_[X_test_level2,diff]\n",
    "final_pred = lr.predict(X_test_level2)\n",
    "final_pred = final_pred.clip(0,20)"
   ]
  },
  {
   "cell_type": "code",
   "execution_count": 34,
   "metadata": {},
   "outputs": [],
   "source": [
    "sub_df = pd.DataFrame({'ID':test.index,'item_cnt_month':final_pred})"
   ]
  },
  {
   "cell_type": "code",
   "execution_count": 35,
   "metadata": {},
   "outputs": [],
   "source": [
    "sub_df.to_csv('Lr_xgb_ensemble.csv',index=False)"
   ]
  },
  {
   "cell_type": "code",
   "execution_count": 36,
   "metadata": {},
   "outputs": [
    {
     "data": {
      "text/plain": [
       "count    214200.000000\n",
       "mean          0.301657\n",
       "std           0.788175\n",
       "min           0.000000\n",
       "25%           0.017788\n",
       "50%           0.105407\n",
       "75%           0.304971\n",
       "max          20.000000\n",
       "dtype: float64"
      ]
     },
     "execution_count": 36,
     "metadata": {},
     "output_type": "execute_result"
    }
   ],
   "source": [
    "pd.Series(final_pred).describe()"
   ]
  },
  {
   "cell_type": "markdown",
   "metadata": {},
   "source": [
    "## LBとPrivateともにスコアは0.94"
   ]
  },
  {
   "cell_type": "code",
   "execution_count": 37,
   "metadata": {},
   "outputs": [],
   "source": [
    "df_train  = pd.DataFrame(data = X_train_level2, columns = ['pred_lr','pred_xgb','diff'],dtype=float)\n",
    "df_test = pd.DataFrame(data = X_test_level2, columns = ['pred_lr','pred_xgb','diff'],dtype=float)"
   ]
  },
  {
   "cell_type": "markdown",
   "metadata": {},
   "source": [
    "### XGBoostをメタモデルとして採用する。"
   ]
  },
  {
   "cell_type": "code",
   "execution_count": 38,
   "metadata": {
    "scrolled": true
   },
   "outputs": [
    {
     "data": {
      "text/plain": [
       "count    214200.000000\n",
       "mean          0.306532\n",
       "std           0.785918\n",
       "min           0.000000\n",
       "25%           0.033961\n",
       "50%           0.123864\n",
       "75%           0.298930\n",
       "max          16.350483\n",
       "dtype: float64"
      ]
     },
     "execution_count": 38,
     "metadata": {},
     "output_type": "execute_result"
    }
   ],
   "source": [
    "xgbtrain = xgb.DMatrix(df_train.values, y_train_level2.values)\n",
    "bst = xgb.train(params, xgbtrain, num_boost_round=10)\n",
    "xgbpredict = xgb.DMatrix(df_test.values)\n",
    "pred = bst.predict(xgbpredict)\n",
    "\n",
    "pred = pred.clip(0,20)\n",
    "sub_df = pd.DataFrame({'ID':test.index,'item_cnt_month':pred})\n",
    "sub_df.to_csv('Lr_xgb_ensemble_xgb.csv',index=False)\n",
    "pd.Series(pred).describe()"
   ]
  },
  {
   "cell_type": "markdown",
   "metadata": {},
   "source": [
    "## 過学習をしている。スコアはLBが0.95, Privateが0.95"
   ]
  },
  {
   "cell_type": "code",
   "execution_count": 41,
   "metadata": {},
   "outputs": [
    {
     "data": {
      "image/png": "[encoded data removed]",
      "text/plain": [
       "<Figure size 720x720 with 1 Axes>"
      ]
     },
     "metadata": {
      "needs_background": "light"
     },
     "output_type": "display_data"
    }
   ],
   "source": [
    "x = xgb.plot_importance(bst)\n",
    "x.figure.set_size_inches(10, 10)"
   ]
  },
  {
   "cell_type": "code",
   "execution_count": 40,
   "metadata": {},
   "outputs": [
    {
     "data": {
      "text/plain": [
       "['pred_lr', 'pred_xgb', 'diff']"
      ]
     },
     "execution_count": 40,
     "metadata": {},
     "output_type": "execute_result"
    }
   ],
   "source": [
    "cols = list(df_train.columns)\n",
    "\n",
    "[cols[x] for x in [0,1,2]]"
   ]
  },
  {
   "cell_type": "code",
   "execution_count": null,
   "metadata": {},
   "outputs": [],
   "source": []
  }
 ],
 "metadata": {
  "kernelspec": {
   "display_name": "Python 3",
   "language": "python",
   "name": "python3"
  },
  "language_info": {
   "codemirror_mode": {
    "name": "ipython",
    "version": 3
   },
   "file_extension": ".py",
   "mimetype": "text/x-python",
   "name": "python",
   "nbconvert_exporter": "python",
   "pygments_lexer": "ipython3",
   "version": "3.7.3"
  }
 },
 "nbformat": 4,
 "nbformat_minor": 2
}
